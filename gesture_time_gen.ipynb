{
 "cells": [
  {
   "cell_type": "code",
   "execution_count": 13,
   "metadata": {},
   "outputs": [],
   "source": [
    "import pandas as pd\n",
    "import re"
   ]
  },
  {
   "cell_type": "code",
   "execution_count": 14,
   "metadata": {},
   "outputs": [],
   "source": [
    "def process_files(txt_path, csv_path):\n",
    "    # Read the files\n",
    "    with open(txt_path, 'r') as f:\n",
    "        txt_lines = f.readlines()\n",
    "    \n",
    "    timing_df = pd.read_csv(csv_path)\n",
    "    \n",
    "    # Initialize results list\n",
    "    results = []\n",
    "    last_index = 0  # Track the last matched index to ensure sequential matching\n",
    "    \n",
    "    # Process lines\n",
    "    for i in range(len(txt_lines)-1):  # Stop at second-to-last line to avoid index error\n",
    "        current_line = txt_lines[i].strip()\n",
    "        next_line = txt_lines[i+1].strip()\n",
    "        \n",
    "        # Find all content brackets in current line\n",
    "        content_matches = re.finditer(r'\\[(.*?)\\]', current_line)\n",
    "        # Find all instruction brackets in next line\n",
    "        instruction_matches = re.finditer(r'\\[(.*?):(.*?)\\]', next_line)\n",
    "        \n",
    "        # Convert matches to lists so we can reuse them\n",
    "        content_brackets = [m.group(1) for m in content_matches]\n",
    "        instruction_brackets = [m.group(0) for m in instruction_matches]\n",
    "        \n",
    "        # Skip if either list is empty\n",
    "        if not content_brackets or not instruction_brackets:\n",
    "            continue\n",
    "            \n",
    "        # Process each non-empty content bracket\n",
    "        for content in content_brackets:\n",
    "            # Skip empty brackets or brackets with only whitespace\n",
    "            if not content.strip():\n",
    "                continue\n",
    "                \n",
    "            # Find first and last words of content (excluding brackets)\n",
    "            words = content.strip().split()\n",
    "            if not words:  # Skip if no words found\n",
    "                continue\n",
    "                \n",
    "            first_word = words[0]\n",
    "            last_word = words[-1].rstrip('.')\n",
    "            \n",
    "            # Process each instruction for this content\n",
    "            for instruction in instruction_brackets:\n",
    "                # Find timing in CSV\n",
    "                try:\n",
    "                    # Find the first occurrence of first_word *after* the last matched index\n",
    "                    start_rows = timing_df.iloc[last_index:][timing_df['Word'].str.contains(first_word, na=False, regex=False)]\n",
    "                    if not start_rows.empty:\n",
    "                        start_index = start_rows.index[0]\n",
    "                        start_time = start_rows['Start_time'].iloc[0]\n",
    "                        last_index = start_index + 1  # Update last matched index\n",
    "                    else:\n",
    "                        continue\n",
    "                    \n",
    "                    # Find the first occurrence of last_word *after* the start_index\n",
    "                    end_rows = timing_df.iloc[start_index:][timing_df['Word'].str.contains(last_word, na=False, regex=False)]\n",
    "                    if not end_rows.empty:\n",
    "                        end_time = end_rows['End_time'].iloc[0]\n",
    "                    else:\n",
    "                        continue\n",
    "                    \n",
    "                    # Add to results\n",
    "                    results.append({\n",
    "                        'bracketed_text': instruction,\n",
    "                        'start_time': start_time,\n",
    "                        'end_time': end_time,\n",
    "                        'content_reference': f\"[{content}]\"  # Add content for reference\n",
    "                    })\n",
    "                except (IndexError, KeyError) as e:\n",
    "                    print(f\"Warning: Could not find timing for '{first_word}' or '{last_word}' - Error: {e}\")\n",
    "    \n",
    "    # Create output DataFrame\n",
    "    output_df = pd.DataFrame(results)\n",
    "    if not output_df.empty:\n",
    "        output_df.index = output_df.index + 1  # Start index from 1\n",
    "    return output_df"
   ]
  },
  {
   "cell_type": "code",
   "execution_count": 15,
   "metadata": {},
   "outputs": [
    {
     "name": "stderr",
     "output_type": "stream",
     "text": [
      "C:\\Users\\xiaos\\AppData\\Local\\Temp\\ipykernel_21492\\3725620003.py:58: UserWarning: Boolean Series key will be reindexed to match DataFrame index.\n",
      "  end_rows = timing_df.iloc[start_index:][timing_df['Word'].str.contains(last_word, na=False, regex=False)]\n",
      "C:\\Users\\xiaos\\AppData\\Local\\Temp\\ipykernel_21492\\3725620003.py:49: UserWarning: Boolean Series key will be reindexed to match DataFrame index.\n",
      "  start_rows = timing_df.iloc[last_index:][timing_df['Word'].str.contains(first_word, na=False, regex=False)]\n"
     ]
    }
   ],
   "source": [
    "# Example usage\n",
    "if __name__ == \"__main__\":\n",
    "    output_df = process_files('boat-gest-coded.txt', 'Boat-Design-Matrix.csv')\n",
    "    output_df.to_csv('output.csv')"
   ]
  },
  {
   "cell_type": "code",
   "execution_count": null,
   "metadata": {},
   "outputs": [],
   "source": []
  }
 ],
 "metadata": {
  "kernelspec": {
   "display_name": "torchwin",
   "language": "python",
   "name": "python3"
  },
  "language_info": {
   "codemirror_mode": {
    "name": "ipython",
    "version": 3
   },
   "file_extension": ".py",
   "mimetype": "text/x-python",
   "name": "python",
   "nbconvert_exporter": "python",
   "pygments_lexer": "ipython3",
   "version": "3.10.14"
  }
 },
 "nbformat": 4,
 "nbformat_minor": 2
}
